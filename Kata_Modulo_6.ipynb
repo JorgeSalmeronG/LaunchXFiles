{
 "cells": [
  {
   "cell_type": "markdown",
   "metadata": {},
   "source": [
    "\n",
    "### Ejercicio1: Crear y usar listas de Python\n"
   ]
  },
  {
   "cell_type": "code",
   "execution_count": 1,
   "metadata": {},
   "outputs": [
    {
     "name": "stdout",
     "output_type": "stream",
     "text": [
      "['Mercurio', 'Venus', 'Tierra', 'Marte,', 'Jupiter', 'Saturno', 'Urano', 'Neptuno']\n",
      "['Mercurio', 'Venus', 'Tierra', 'Marte,', 'Jupiter', 'Saturno', 'Urano', 'Neptuno', 'Plutón']\n",
      "Se tienen 9  Planetas, el último es:  Plutón\n"
     ]
    }
   ],
   "source": [
    "# Creamos la lista planets y la mostramos\n",
    "\n",
    "planets = [\"Mercurio\", \"Venus\",\"Tierra\",\"Marte,\",\"Jupiter\",\"Saturno\",\"Urano\",\"Neptuno\"]\n",
    "print(planets)\n",
    "\n",
    "# Agregamos a plutón y mostramos el último elemento\n",
    "planets.append(\"Plutón\")\n",
    "print(planets)\n",
    "print(\"Se tienen\",len(planets),\" Planetas, el último es: \", planets[-1])"
   ]
  },
  {
   "cell_type": "markdown",
   "metadata": {},
   "source": [
    "### Ejercicio 2: Trabajando con datos de una lista"
   ]
  },
  {
   "cell_type": "code",
   "execution_count": 5,
   "metadata": {},
   "outputs": [
    {
     "name": "stdout",
     "output_type": "stream",
     "text": [
      "Los planetas mas cercanos al sol que 'Jupiter' son: ['Mercury', 'Venus', 'Earth', 'Mars']\n"
     ]
    }
   ],
   "source": [
    "# Lista de planetas\n",
    "planets = ['Mercury', 'Venus', 'Earth', 'Mars', 'Jupiter', 'Saturn', 'Neptune']\n",
    "dato = input(\"Ingresa el Nombre de un planeta: \")\n",
    "dato=dato.title()\n",
    "\n",
    "# Busca el planeta en la lista\n",
    "for item in planets:\n",
    "    if planets.index(dato) >=0:\n",
    "        index=planets.index(dato)\n",
    "        break\n",
    "        \n",
    "# Muestra los planetas más cercanos al sol\n",
    "if index >= 0:\n",
    "    print(\"Los planetas mas cercanos al sol que '{}' son: {}\".format(dato, planets[0:index]))"
   ]
  }
 ],
 "metadata": {
  "interpreter": {
   "hash": "6406cdd2cd454b24dfe315fd44a03eaae7692fa92167c7b3655baed7a26f0cb0"
  },
  "kernelspec": {
   "display_name": "Python 3.9.6 64-bit",
   "language": "python",
   "name": "python3"
  },
  "language_info": {
   "codemirror_mode": {
    "name": "ipython",
    "version": 3
   },
   "file_extension": ".py",
   "mimetype": "text/x-python",
   "name": "python",
   "nbconvert_exporter": "python",
   "pygments_lexer": "ipython3",
   "version": "3.9.6"
  },
  "orig_nbformat": 4
 },
 "nbformat": 4,
 "nbformat_minor": 2
}
