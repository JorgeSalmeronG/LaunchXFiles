{
 "cells": [
  {
   "cell_type": "markdown",
   "metadata": {},
   "source": [
    "# Módulo 9 - Funciones /Kata del módulo"
   ]
  },
  {
   "cell_type": "code",
   "execution_count": 75,
   "metadata": {},
   "outputs": [],
   "source": [
    "# Función para leer 3 tanques de combustible y muestre el promedio\n",
    "def combusAvg(lect1, lect2, lect3):\n",
    "    avg=(lect1 + lect2 + lect3)/3\n",
    "    return f\"\"\" combustible promedio = \" {avg}\n",
    "    Tanque 1: {lect1}, tanque 2: {lect2}, tanque 3: {lect3} \"\"\"\n",
    "    \n",
    "    "
   ]
  },
  {
   "cell_type": "code",
   "execution_count": 76,
   "metadata": {},
   "outputs": [
    {
     "name": "stdout",
     "output_type": "stream",
     "text": [
      " combustible promedio = \" 36.333333333333336\n",
      "    Tanque 1: 20, tanque 2: 34, tanque 3: 55 \n"
     ]
    }
   ],
   "source": [
    "# Llamamos a la función que genera el reporte print(funcion(tanque1, tanque2, tanque3))\n",
    "print(combusAvg(20,34,55))"
   ]
  },
  {
   "cell_type": "markdown",
   "metadata": {},
   "source": [
    "En lugar de simplemente crear el informe, la función también está calculando el promedio. Mejora la legibilidad extrayendo el cálculo promedio de la función en una nueva función para que el promedio se pueda hacer de forma independiente:"
   ]
  },
  {
   "cell_type": "code",
   "execution_count": 77,
   "metadata": {},
   "outputs": [],
   "source": [
    "# Función promedio \n",
    "def avgFun(*args):\n",
    "    return sum(args)/len(args)"
   ]
  },
  {
   "cell_type": "markdown",
   "metadata": {},
   "source": [
    "Ahora actualiza la función de informes para llamando a la nueva función del promedio:"
   ]
  },
  {
   "cell_type": "code",
   "execution_count": 78,
   "metadata": {},
   "outputs": [
    {
     "name": "stdout",
     "output_type": "stream",
     "text": [
      " combustible promedio = \" 36.333333333333336\n",
      "    Tanque 1: 20, tanque 2: 34, tanque 3: 55 \n"
     ]
    }
   ],
   "source": [
    "# Actualiza la función\n",
    "def combusAvg(lect1, lect2, lect3):\n",
    "    \n",
    "    return f\"\"\" combustible promedio = \" {avgFun(lect1, lect2, lect3)}\n",
    "    Tanque 1: {lect1}, tanque 2: {lect2}, tanque 3: {lect3} \"\"\"\n",
    "    \n",
    "print(combusAvg(20,34,55))"
   ]
  },
  {
   "cell_type": "markdown",
   "metadata": {},
   "source": [
    "\n",
    "### Ejercicio 2: Trabajo con argumentos de palabra clave\n",
    "#### Ejercicio : Trabajar con argumentos de palabras clave en funciones\n",
    "En este ejercicio, construirás un informe de cohete que requiere varias piezas de información, como el tiempo hasta el destino, el combustible a la izquierda y el nombre del destino. Comienza por crear una función que creará un informe preciso de la misión:"
   ]
  },
  {
   "cell_type": "code",
   "execution_count": 79,
   "metadata": {},
   "outputs": [
    {
     "name": "stdout",
     "output_type": "stream",
     "text": [
      "prelanzamiento: 10\n",
      "        tiempo de vuelo: 20\n",
      "        destino: Venus\n",
      "        tanque externo: 10000\n",
      "        tanque interno: 20000 \n",
      "        tiempo total: 30\n",
      "        combustible total: 30000\n",
      "        \n"
     ]
    }
   ],
   "source": [
    "# Función con un informe preciso de la misión. Considera hora de prelanzamiento, tiempo de vuelo, destino, tanque externo y tanque interno\n",
    "\n",
    "def report(var1, var2, var3, var4,var5):\n",
    "    return (f\"\"\"prelanzamiento: {var1}\n",
    "        tiempo de vuelo: {var2}\n",
    "        destino: {var3}\n",
    "        tanque externo: {var4}\n",
    "        tanque interno: {var5} \n",
    "        tiempo total: {var1 + var2}\n",
    "        combustible total: {var4 + var5}\n",
    "        \"\"\")\n",
    "print (report(10,20,\"Venus\",10000,20000))"
   ]
  },
  {
   "cell_type": "markdown",
   "metadata": {},
   "source": [
    "La función es problemática porque no se puede adaptar para minutos adicionales o tanques adicionales de combustible. Hazlo más flexible permitiendo cualquier número de pasos basados en el tiempo y cualquier número de tanques. En lugar de usar *args y **kwargs, aprovecha el hecho de que puedes usar cualquier nombre que desees. Asegurate que la función sea más legible mediante el uso de nombres de variables que están asociados con las entradas, como *minutes y **fuel_reservoirs"
   ]
  },
  {
   "cell_type": "code",
   "execution_count": 80,
   "metadata": {},
   "outputs": [
    {
     "name": "stdout",
     "output_type": "stream",
     "text": [
      "\n",
      "    Destino: Marte\n",
      "    Tiempo total: 90 minutos\n",
      "    Combustible: 30000\n",
      "    \n"
     ]
    }
   ],
   "source": [
    "# Escribe tu nueva función de reporte considerando lo anterior\n",
    "\n",
    "def report(destino,*minutes,**tanque):\n",
    "    return f\"\"\"\n",
    "    Destino: {destino}\n",
    "    Tiempo total: {sum(minutes)} minutos\n",
    "    Combustible: {sum(tanque.values())}\n",
    "    \"\"\"\n",
    "\n",
    "print(report(\"Marte\",20,30,40,izq=10000,der=20000))"
   ]
  },
  {
   "cell_type": "markdown",
   "metadata": {},
   "source": [
    "Debido a que el combustible que queda en los tanques es específico de cada tanque, actualiza la función para usar el nombre de cada tanque en el informe:"
   ]
  },
  {
   "cell_type": "code",
   "execution_count": 89,
   "metadata": {},
   "outputs": [
    {
     "name": "stdout",
     "output_type": "stream",
     "text": [
      "Tanque primario : 10000 Litros disponibles\n",
      "Tanque secundario : 20000 Litros disponibles\n",
      "\n",
      "    Destino: Marte\n",
      "    Tiempo total: 90 minutos\n",
      "    Combustible: 30000\n",
      "    \n"
     ]
    }
   ],
   "source": [
    "# Escribe tu nueva función\n",
    "\n",
    "def report(destino,*minutes,**tanque):\n",
    "\n",
    "    for nombre, lectura in tanque.items():\n",
    "        print(f'Tanque {nombre} : {lectura} Litros disponibles')\n",
    "\n",
    "    return f\"\"\"\n",
    "    Destino: {destino}\n",
    "    Tiempo total: {sum(minutes)} minutos\n",
    "    Combustible: {sum(tanque.values())}\n",
    "    \"\"\"\n",
    "    \n",
    "print(report(\"Marte\",20,30,40,primario=10000,secundario=20000))\n",
    "\n",
    "    "
   ]
  }
 ],
 "metadata": {
  "interpreter": {
   "hash": "6406cdd2cd454b24dfe315fd44a03eaae7692fa92167c7b3655baed7a26f0cb0"
  },
  "kernelspec": {
   "display_name": "Python 3.9.6 64-bit",
   "language": "python",
   "name": "python3"
  },
  "language_info": {
   "codemirror_mode": {
    "name": "ipython",
    "version": 3
   },
   "file_extension": ".py",
   "mimetype": "text/x-python",
   "name": "python",
   "nbconvert_exporter": "python",
   "pygments_lexer": "ipython3",
   "version": "3.9.6"
  },
  "orig_nbformat": 4
 },
 "nbformat": 4,
 "nbformat_minor": 2
}
