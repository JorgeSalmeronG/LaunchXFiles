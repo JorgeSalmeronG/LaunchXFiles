{
 "cells": [
  {
   "cell_type": "markdown",
   "metadata": {},
   "source": [
    "# Módulo 5. Usar operaciones matemáticas"
   ]
  },
  {
   "cell_type": "code",
   "execution_count": 1,
   "metadata": {},
   "outputs": [
    {
     "name": "stdout",
     "output_type": "stream",
     "text": [
      "La distancia entre planetas es: 628949330 Km o 390810995 Millas\n"
     ]
    }
   ],
   "source": [
    "#Ejercicio1 - Utilizar operadores aritméticos\n",
    "\n",
    "planetaA=149597870 #Tierra\n",
    "planetaB=778547200 #Jupiter\n",
    "\n",
    "distancia=abs(planetaA - planetaB) #en Km\n",
    "distancia2= distancia / 1.609344 #en Millas\n",
    "print(\"La distancia entre planetas es: {0} Km o {1} Millas\".format(distancia,round(distancia2)))"
   ]
  },
  {
   "cell_type": "code",
   "execution_count": 2,
   "metadata": {},
   "outputs": [
    {
     "name": "stdout",
     "output_type": "stream",
     "text": [
      "La distancia entre planetas es: 50300000 Km o 31236300 Millas\n"
     ]
    }
   ],
   "source": [
    "#Ejercicio 2: convierte cadenas en números y usa valores absolutos\n",
    "\n",
    "# Almacenar las entradas del usuario\n",
    "#Pista: variable = input(\"¿Cuál es tu nombre?\")\n",
    "\n",
    "pA = input(\"Introduce la distancia del Sol al Planeta A: \")\n",
    "pB = input(\"Introduce la distancia del Sol al Planeta B: \")\n",
    "\n",
    "# Convierte las cadenas de ambos planetas a números enteros\n",
    "\n",
    "planetaA = int(pA)\n",
    "planetaB = int(pB)\n",
    "\n",
    "# Realizar el cálculo y determinar el valor absoluto\n",
    "distancia=abs(planetaA - planetaB) #en Km\n",
    "# Convertir de KM a Millas\n",
    "distancia2= distancia * 0.621 #en Millas\n",
    "\n",
    "print(\"La distancia entre planetas es: {0} Km o {1} Millas\".format(distancia,round(distancia2)))\n"
   ]
  },
  {
   "cell_type": "markdown",
   "metadata": {},
   "source": []
  }
 ],
 "metadata": {
  "interpreter": {
   "hash": "6406cdd2cd454b24dfe315fd44a03eaae7692fa92167c7b3655baed7a26f0cb0"
  },
  "kernelspec": {
   "display_name": "Python 3.9.6 64-bit",
   "language": "python",
   "name": "python3"
  },
  "language_info": {
   "codemirror_mode": {
    "name": "ipython",
    "version": 3
   },
   "file_extension": ".py",
   "mimetype": "text/x-python",
   "name": "python",
   "nbconvert_exporter": "python",
   "pygments_lexer": "ipython3",
   "version": "3.9.6"
  },
  "orig_nbformat": 4
 },
 "nbformat": 4,
 "nbformat_minor": 2
}
