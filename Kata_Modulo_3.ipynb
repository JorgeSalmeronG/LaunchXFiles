{
 "cells": [
  {
   "cell_type": "markdown",
   "metadata": {},
   "source": [
    "# Kata del Módulo 3."
   ]
  },
  {
   "cell_type": "markdown",
   "metadata": {},
   "source": [
    "## Ejercicio No 1. \n",
    "### Para este ejercicio, escribirás una lógica condicional que imprima una advertencia si un asteroide se acerca a la Tierra demasiado rápido. La velocidad del asteroide varía dependiendo de lo cerca que esté del sol, y cualquier velocidad superior a 25 kilómetros por segundo (km/s) merece una advertencia."
   ]
  },
  {
   "cell_type": "code",
   "execution_count": null,
   "metadata": {},
   "outputs": [],
   "source": [
    "# Añadir el código necesario para crear una variable que guarde la velocidad del asteroide.\n",
    "# Escribe una expresión de prueba para calcular si necesita una advertencia.\n",
    "# Agregue las instrucciones que se ejecutarán si la expresión de prueba es true o false.\n",
    "\n",
    "velo_aster = 49 #Velocidad en Km/s\n",
    "\n",
    "if velo_aster > 25:\n",
    "    print (\"¡¡ Advertencia !!, un Asteroide se acerca rápidamente a: \" + str(velo_aster) + \" km/s\")\n",
    "else:\n",
    "    print(\"Un asteroide se acerca a una velocidad menor o igual a 25 km/s. No representa ningun peligro\" )\n",
    "\n"
   ]
  },
  {
   "cell_type": "markdown",
   "metadata": {},
   "source": [
    "# Ejercicio No 2. "
   ]
  },
  {
   "cell_type": "code",
   "execution_count": null,
   "metadata": {},
   "outputs": [],
   "source": [
    "# Agrega el código para crear una variable para un asteroide que viaja a 19 km/s\n",
    "# Escribe varias expresiones de prueba para determinar si puedes ver el rayo de luz desde la tierra\n",
    "# Agrega las instrucciones que se ejecutarán si las expresiones de prueba son True o False\n",
    "\n",
    "velo_aster = 19 #Velocidad en km/s\n",
    "\n",
    "if velo_aster > 20:\n",
    "    print (\"Un asteroide entrará a la atmósfera terrestre y podrá ser visible. Dirigir su mirada al cielo \")\n",
    "elif velo_aster == 20:\n",
    "    print (\"Un asteroide entrará a la atmósfera terrestre y podrá ser visible. Dirigir su mirada al cielo \")\n",
    "else:\n",
    "    print(\"Un asteroide entrará a la atmósfera terrestre pero no podrá ser visible. \")"
   ]
  },
  {
   "cell_type": "markdown",
   "metadata": {},
   "source": [
    "# Ejercicio No 3. Uso de operadores and y or"
   ]
  },
  {
   "cell_type": "code",
   "execution_count": null,
   "metadata": {},
   "outputs": [],
   "source": [
    "# Agrega el código para crear nuevas variables para la velocidad y el tamaño del asteroide\n",
    "# Para probar el código, prueba con varias velocidades y tamaños\n",
    "# Escribe varias expresiones de prueba o combinaciones de expresiones de prueba para determinar qué mensaje se debe enviar a Tierra.\n",
    "\n",
    "velo_aster = 59\n",
    "size_aster = 30\n",
    "\n",
    "\n",
    "if velo_aster >= 25 and size_aster >= 25:\n",
    "    print(\"¡¡ Advertencia !!, un Asteroide se acerca rápidamente a: \" + str(velo_aster) + \" km/s\")\n",
    "    print(\"Podrá ser visible. Dirigir su mirada al cielo. \")\n",
    "    print(\"Al golpear la tierra causará mucho daño\")\n",
    " \n",
    "elif velo_aster >= 20:\n",
    "    print(\"Un asteroide entrará a la atmósfera terrestre y podrá ser visible. Dirigir su mirada al cielo \")\n",
    "    print(\"No existe ningun peligro de colisión con la tierra\")\n",
    "else:\n",
    "    print(\"Un asteroide entrará a la atmósfera terrestre pero NO podrá ser visible. \")\n",
    "    print(\"No existe ningun peligro de colisión con la tierra\")\n",
    "    "
   ]
  }
 ],
 "metadata": {
  "interpreter": {
   "hash": "6406cdd2cd454b24dfe315fd44a03eaae7692fa92167c7b3655baed7a26f0cb0"
  },
  "kernelspec": {
   "display_name": "Python 3.9.6 64-bit",
   "language": "python",
   "name": "python3"
  },
  "language_info": {
   "codemirror_mode": {
    "name": "ipython",
    "version": 3
   },
   "file_extension": ".py",
   "mimetype": "text/x-python",
   "name": "python",
   "nbconvert_exporter": "python",
   "pygments_lexer": "ipython3",
   "version": "3.9.6"
  },
  "orig_nbformat": 4
 },
 "nbformat": 4,
 "nbformat_minor": 2
}
