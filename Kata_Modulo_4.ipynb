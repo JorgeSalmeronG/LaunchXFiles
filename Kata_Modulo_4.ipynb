{
 "cells": [
  {
   "cell_type": "markdown",
   "metadata": {},
   "source": [
    "# Modulo 4. Cadenas"
   ]
  },
  {
   "cell_type": "markdown",
   "metadata": {},
   "source": [
    "### Ejercicio 1: Transformar cadenas"
   ]
  },
  {
   "cell_type": "code",
   "execution_count": 3,
   "metadata": {},
   "outputs": [
    {
     "name": "stdout",
     "output_type": "stream",
     "text": [
      "['Interesting facts about the Moon', \" The Moon is Earth's only satellite\", ' There are several interesting facts about the Moon and how it affects life here on Earth', ',\\nOn average, the Moon moves 4cm away from the Earth every year', ' This yearly drift is not significant enough to cause immediate effects on Earth', ' The highest daylight temperature of the Moon is 127 C', '']\n",
      ",\n",
      "On average, the Moon moves 4cm away from the Earth every year\n",
      " The highest daylight temperature of the Moon is 127 C\n",
      ",\n",
      "On average, the Moon moves 4cm away from the Earth every year\n",
      " The highest daylight temperature of the Moon is 127 Celsius\n"
     ]
    }
   ],
   "source": [
    "text = \"\"\"Interesting facts about the Moon. The Moon is Earth's only satellite. There are several interesting facts about the Moon and how it affects life here on Earth.,\n",
    "On average, the Moon moves 4cm away from the Earth every year. This yearly drift is not significant enough to cause immediate effects on Earth. The highest daylight temperature of the Moon is 127 C.\"\"\"\n",
    "\n",
    "#dividir texto en oraciones\n",
    "\n",
    "oraciones = text.split('.')\n",
    "\n",
    "#Crear key words\n",
    "\n",
    "keywords = [\"average\", \"temperature\",\"distance\"]\n",
    "print(oraciones)\n",
    "\n",
    "#Ciclo for para buscar palabras clave en oraciones\n",
    "\n",
    "for word in keywords:\n",
    "    for part in oraciones:\n",
    "        if word in part.lower():\n",
    "            print(part)\n",
    "            \n",
    "#Ciclo for para buscar palabras clave en oraciones y cambiar \"C\" por \"Celsius\"\n",
    "\n",
    "for word in keywords:\n",
    "    for part in oraciones:\n",
    "        if word in part.lower() and part.endswith(\"C\"):\n",
    "            print(part.replace('C','Celsius'))\n",
    "        elif word in part.lower():\n",
    "            print(part)\n",
    "        "
   ]
  },
  {
   "cell_type": "markdown",
   "metadata": {},
   "source": [
    "### Ejercicio 2: Formateando Cadenas"
   ]
  },
  {
   "cell_type": "markdown",
   "metadata": {},
   "source": []
  },
  {
   "cell_type": "code",
   "execution_count": 4,
   "metadata": {},
   "outputs": [
    {
     "name": "stdout",
     "output_type": "stream",
     "text": [
      "Interesting Things About Gravity In Earth And Moon\n",
      "------------------------------\n",
      "Planete Name: Earth\n",
      "Gravity on Moon: 1.6199999999999999 m/s2\n",
      "\n"
     ]
    },
    {
     "data": {
      "text/plain": [
       "'Interesting Things About Gravity In Earth And Moon\\n------------------------------\\nPlanete Name: Earth\\nGravity on Moon: 1.6199999999999999 m/s2\\n'"
      ]
     },
     "execution_count": 4,
     "metadata": {},
     "output_type": "execute_result"
    }
   ],
   "source": [
    "\n",
    "name = \"Moon\"\n",
    "gravity = 0.00162 # in kms\n",
    "planet = \"Earth\"\n",
    "\n",
    "##Creamos titulo:\n",
    "\n",
    "title = (f\"Interesting things about gravity in {planet} and {name}\").title()\n",
    "\n",
    "##Creamos la plantilla\n",
    "\n",
    "plantilla = f\"\"\"{'-'*30}\n",
    "Planete Name: {planet}\n",
    "Gravity on {name}: {gravity*1000} m/s2\n",
    "\"\"\"\n",
    "\n",
    "###Unión de cadenas\n",
    "print(title)\n",
    "print(plantilla)\n",
    "\n",
    "\n",
    "\"\\n\".join([title,plantilla])\n",
    "\n"
   ]
  }
 ],
 "metadata": {
  "interpreter": {
   "hash": "6406cdd2cd454b24dfe315fd44a03eaae7692fa92167c7b3655baed7a26f0cb0"
  },
  "kernelspec": {
   "display_name": "Python 3.9.6 64-bit",
   "language": "python",
   "name": "python3"
  },
  "language_info": {
   "codemirror_mode": {
    "name": "ipython",
    "version": 3
   },
   "file_extension": ".py",
   "mimetype": "text/x-python",
   "name": "python",
   "nbconvert_exporter": "python",
   "pygments_lexer": "ipython3",
   "version": "3.9.6"
  },
  "orig_nbformat": 4
 },
 "nbformat": 4,
 "nbformat_minor": 2
}
